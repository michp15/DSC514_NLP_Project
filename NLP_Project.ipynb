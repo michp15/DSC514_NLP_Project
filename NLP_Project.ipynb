{
  "nbformat": 4,
  "nbformat_minor": 0,
  "metadata": {
    "colab": {
      "provenance": [],
      "authorship_tag": "ABX9TyPOPvGps2WHfQhsP7F+XNVw"
    },
    "kernelspec": {
      "name": "python3",
      "display_name": "Python 3"
    },
    "language_info": {
      "name": "python"
    }
  },
  "cells": [
    {
      "cell_type": "markdown",
      "source": [
        "# NLP Project"
      ],
      "metadata": {
        "id": "W6NkjyE3EJIv"
      }
    },
    {
      "cell_type": "markdown",
      "source": [
        "## Team Members"
      ],
      "metadata": {
        "id": "hhJab6QfEmZp"
      }
    },
    {
      "cell_type": "markdown",
      "source": [
        "- Panagiotis Michael (Coordinator)\n",
        "- Fivos Theodoridis\n",
        "- Maysam Khatib\n",
        "- Rafail Athos Panagi\n",
        "- Constantinos Odysseos"
      ],
      "metadata": {
        "id": "IFneMPN4EL6o"
      }
    },
    {
      "cell_type": "markdown",
      "source": [
        "## Code"
      ],
      "metadata": {
        "id": "PY4jcdVtEoAB"
      }
    },
    {
      "cell_type": "code",
      "source": [],
      "metadata": {
        "id": "2-IBzPV0EKXq"
      },
      "execution_count": null,
      "outputs": []
    }
  ]
}